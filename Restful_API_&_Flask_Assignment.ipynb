{
  "nbformat": 4,
  "nbformat_minor": 0,
  "metadata": {
    "colab": {
      "provenance": []
    },
    "kernelspec": {
      "name": "python3",
      "display_name": "Python 3"
    },
    "language_info": {
      "name": "python"
    }
  },
  "cells": [
    {
      "cell_type": "markdown",
      "source": [
        "Q.1. What is a RESTful API?"
      ],
      "metadata": {
        "id": "lvn-z2OeqXJr"
      }
    },
    {
      "cell_type": "markdown",
      "source": [
        "Ans. A RESTful API is an Application Programming Interface (API) that follows the principles of REpresentational State Transfer (REST), an architectural style for designing networked applications. It's the most common type of API used on the web today and is designed to be simple, scalable, and lightweight.\n"
      ],
      "metadata": {
        "id": "7FaQ2CWzqd1_"
      }
    },
    {
      "cell_type": "markdown",
      "source": [
        "Q.2. Explain the concept of API specification."
      ],
      "metadata": {
        "id": "eMoublpFqppV"
      }
    },
    {
      "cell_type": "markdown",
      "source": [
        "Ans. An API specification is a machine-readable document that acts as a blueprint or contract for an API. It describes all the details of the API, including its endpoints, the parameters it accepts, the data it returns, and the authentication methods it uses.\n",
        "\n",
        "**Purpose and Benefits:-** The primary purpose of an API specification is to provide a single source of truth for an API, ensuring that both the developers who build the API and the developers who consume it have a clear and consistent understanding of how it works.\n",
        "\n",
        "Here are some of its key benefits:\n",
        "\n",
        "1. Consistency: It ensures that all parts of the API are defined consistently, which helps to maintain a uniform interface and simplifies the development process.\n",
        "\n",
        "2. Automation: Because the specification is machine-readable, it can be used by various tools to automate tasks like generating documentation, creating code for client libraries and server stubs, and automating tests.\n",
        "\n",
        "3. Documentation: It serves as the foundation for creating comprehensive and up-to-date API documentation. Tools can automatically generate interactive documentation from the specification, which makes it easier for developers to explore and understand the API.\n",
        "\n",
        "4. Design-First Approach: An API specification allows for a design-first approach, where the API is designed and defined in a formal document before any code is written. This helps to catch design flaws early and ensures that the API meets its intended business needs."
      ],
      "metadata": {
        "id": "GxtrSKlEquq9"
      }
    },
    {
      "cell_type": "markdown",
      "source": [
        "Q.3. What is Flask, and why is it popular for building APIs?"
      ],
      "metadata": {
        "id": "F800Tl6Arjm5"
      }
    },
    {
      "cell_type": "markdown",
      "source": [
        "Ans. Flask is a lightweight Python web framework. It's known for being a \"microframework\" because it doesn't include a lot of built-in tools or libraries. Instead, it provides the bare essentials needed to build a web application, giving developers the flexibility to choose their own tools and libraries for things like databases, form validation, and user authentication.\n",
        "\n",
        "**Why Flask is Popular for Building APIs:-** Flask's popularity for building APIs comes down to its simplicity, flexibility, and minimal nature.\n",
        "\n",
        "1. Simplicity and Minimalism: Flask's core is intentionally minimal. For building a RESTful API, you don't need all the features of a full-stack framework. Flask allows you to define endpoints and handle requests with just a few lines of code, which is perfect for creating lightweight, fast APIs.\n",
        "\n",
        "2. Flexibility: Because Flask doesn't enforce a specific structure or include a lot of built-in features, you have complete control over how you design your API. You can choose any database, any ORM (Object-Relational Mapper), and any other library you prefer. This makes it highly adaptable to various project requirements.\n",
        "\n",
        "3. Easy to Learn: Flask has a very gentle learning curve. Its simple and explicit design makes it easy for developers to understand the flow of a request and quickly get a project up and running. This is a significant advantage for rapid prototyping and for developers new to web development.\n",
        "\n",
        "4. Extensive Ecosystem: While Flask's core is minimal, it has a rich ecosystem of extensions. You can find extensions for almost any task, from handling CORS (Cross-Origin Resource Sharing) to integrating with a NoSQL database. This \"bring your own tools\" approach allows you to build a custom solution tailored specifically for your API.\n",
        "\n",
        "5. Built-in Development Server: Flask comes with a built-in development server that makes it easy to test your API locally. This simplifies the development and debugging process, allowing you to quickly see the results of your code changes."
      ],
      "metadata": {
        "id": "BNIScT_JrrBT"
      }
    },
    {
      "cell_type": "markdown",
      "source": [
        "Q.4. What is routing in Flask?"
      ],
      "metadata": {
        "id": "qb6GRnnYsQaF"
      }
    },
    {
      "cell_type": "markdown",
      "source": [
        "Ans. In Flask, routing is the mechanism that maps a URL (Uniform Resource Locator) to a specific Python function. This function is then executed whenever a user navigates to that particular URL, effectively defining what content or action should be performed for each web address."
      ],
      "metadata": {
        "id": "CifHgKLEsUOc"
      }
    },
    {
      "cell_type": "markdown",
      "source": [
        "Q.5. How do you create a simple Flask application?"
      ],
      "metadata": {
        "id": "ii9JJ3dssc68"
      }
    },
    {
      "cell_type": "markdown",
      "source": [
        "from flask import flask\n",
        "\n",
        "    app = flask(__name__)\n",
        "\n",
        "define a route\n",
        "\n",
        "    @app.route(\"/\")\n",
        "    def home():\n",
        "      return \"hello, flask!\"\n",
        "\n",
        "    run the app\n",
        "        \n",
        "        if__name__==\"__main__\":\n",
        "        app.run(debug=true)Ans."
      ],
      "metadata": {
        "id": "0adG08q9sie-"
      }
    },
    {
      "cell_type": "markdown",
      "source": [
        "Q.6.  What are HTTP methods used in RESTful APIs?"
      ],
      "metadata": {
        "id": "nXUeBvKw7fJD"
      }
    },
    {
      "cell_type": "markdown",
      "source": [
        "Ans. The HTTP methods used in RESTful APIs are a set of standardized verbs that define the type of action to be performed on a resource. They are a core part of the uniform interface principle of REST. The most common methods are:-\n",
        "\n",
        "1. GET\n",
        "\n",
        "2. POST\n",
        "\n",
        "3. PUT\n",
        "  \n",
        "4. PATCH\n",
        "\n",
        "5. DELETE"
      ],
      "metadata": {
        "id": "gSnKcZqW7jKM"
      }
    },
    {
      "cell_type": "markdown",
      "source": [
        "Q.7. What is the purpose of the @app.route() decorator in Flask?"
      ],
      "metadata": {
        "id": "JH7XjgCX8lOI"
      }
    },
    {
      "cell_type": "markdown",
      "source": [
        "Ans. The @app.route() decorator in Flask is used to map a URL to a Python function. Its purpose is to define a route, which is the link between a specific URL a user requests and the code that will handle that request.\n",
        "\n",
        "EXAMPLE:-\n",
        "      \n",
        "       from flask import Flask\n",
        "app = Flask(__name__)\n",
        "\n",
        "@app.route('/')\n",
        "def home():\n",
        "    return \"Welcome to the homepage!\"\n",
        "\n",
        " * When a user visits /, the home() function is executed.\n",
        "\n",
        " * The return value (\"Welcome to the homepage!\") is sent back as the response."
      ],
      "metadata": {
        "id": "_znibfXt8qDV"
      }
    },
    {
      "cell_type": "markdown",
      "source": [
        "Q.8. What is the difference between GET and POST HTTP methods?"
      ],
      "metadata": {
        "id": "0TlNoUsW81UB"
      }
    },
    {
      "cell_type": "markdown",
      "source": [
        "Ans. The key difference between GET and POST HTTP methods lies in their purpose, how they handle data, and their safety and idempotency.\n",
        "\n",
        "**GET:-** GET is used to request data from a specified resource. It's a fundamental part of the web for reading information.\n",
        "\n",
        "Data Handling: Data is sent in the URL as query parameters. For example, http://example.com/search?query=flask.\n",
        "\n",
        "**POST:-** POST is used to send data to the server to create or update a resource.\n",
        "\n",
        "Data Handling: Data is sent in the request body, not the URL. This allows for sending large amounts of data, and the data is not visible in the browser's address bar."
      ],
      "metadata": {
        "id": "hJRqNEXE87U4"
      }
    },
    {
      "cell_type": "markdown",
      "source": [
        "Q.9. How do you handle errors in Flask APIs?"
      ],
      "metadata": {
        "id": "jGgKdy_N-PwR"
      }
    },
    {
      "cell_type": "markdown",
      "source": [
        "Ans. ANS-- In a Flask API, error handling is important for sending clear, consistent, and meaningful responses to the client when something goes wrong (e.g., bad request, not found, internal error).\n",
        "\n",
        " EXAMPLE:- Custom Error Handlers\n",
        "\n",
        "     from flask import jsonify\n",
        "\n",
        "@app.errorhandler(404)\n",
        "def not_found(error):\n",
        "    return jsonify({\"error\": \"Resource not found\"}), 404\n",
        "\n",
        "@app.errorhandler(400)\n",
        "def bad_request(error):\n",
        "    return jsonify({\"error\": \"Bad request\"}), 400\n",
        "\n",
        "@app.errorhandler(500)\n",
        "def server_error(error):\n",
        "    return jsonify({\"error\": \"Internal server error\"}), 500"
      ],
      "metadata": {
        "id": "XDUMVLcW1pt6"
      }
    },
    {
      "cell_type": "markdown",
      "source": [
        "Q.10. How do you connect Flask to a SQL database?"
      ],
      "metadata": {
        "id": "SOBYk5WzoEbh"
      }
    },
    {
      "cell_type": "markdown",
      "source": [
        "Ans. To connect Flask to a SQL database, you typically use a Flask extension like Flask-SQLAlchemy. This extension provides an Object-Relational Mapper (ORM) that simplifies database interactions by allowing you to work with Python objects instead of raw SQL queries."
      ],
      "metadata": {
        "id": "eomHfLbwopre"
      }
    },
    {
      "cell_type": "markdown",
      "source": [
        "Q.11. What is the role of Flask-SQLAlchemy?"
      ],
      "metadata": {
        "id": "20QR08t5ovD2"
      }
    },
    {
      "cell_type": "markdown",
      "source": [
        "Ans. Flask-SQLAlchemy is a Flask extension that simplifies the integration of the SQLAlchemy ORM (Object-Relational Mapper) with Flask applications. Its primary role is to provide an easy-to-use bridge between your Flask app and a SQL database, allowing you to manage database interactions using Python objects instead of writing raw SQL queries."
      ],
      "metadata": {
        "id": "OMK0YT6vo0hM"
      }
    },
    {
      "cell_type": "markdown",
      "source": [
        "Q.12. What are Flask blueprints, and how are they useful?"
      ],
      "metadata": {
        "id": "1QOWhbk1qlSR"
      }
    },
    {
      "cell_type": "markdown",
      "source": [
        "Ans. Flask blueprints are a way to organize a Flask application into smaller, reusable components. They allow you to register routes, templates, static files, and other application components on a blueprint object, which can then be registered with the main application instance.\n",
        "\n",
        "**Why Use Blueprints?**\n",
        "\n",
        "Blueprints are useful for several reasons:\n",
        "\n",
        "Modularity 🧩: Blueprints let you split a large application into smaller, manageable parts. For example, a blogging application could have separate blueprints for user authentication, blog posts, and an admin panel. This makes the codebase easier to understand and maintain.\n",
        "\n",
        "Reusability 🔄: A blueprint can be created once and then registered on different Flask application instances. This is especially useful for creating reusable application components that can be shared across multiple projects. For example, a user authentication blueprint could be used in any application that requires user login functionality.\n",
        "\n",
        "URL Prefixing: Blueprints can be registered with a URL prefix, allowing you to group related routes under a common URL namespace. For instance, all routes in an admin blueprint could be prefixed with /admin, so a route defined as /dashboard in the blueprint would be accessible at /admin/dashboard. This prevents naming conflicts and keeps URLs organized.\n",
        "\n",
        "Separation of Concerns: By organizing your code into blueprints, you promote a better separation of concerns. Each blueprint can focus on a specific feature or aspect of the application, such as user management or API endpoints, without cluttering the main application file."
      ],
      "metadata": {
        "id": "_xKjWeg4qxyv"
      }
    },
    {
      "cell_type": "markdown",
      "source": [
        "Q.13. What is the purpose of Flask's request object?"
      ],
      "metadata": {
        "id": "M-XGNx2HrSlQ"
      }
    },
    {
      "cell_type": "markdown",
      "source": [
        "Ans. The purpose of Flask's request object is to provide access to incoming request data from a client. When a user's web browser or another client sends a request to a Flask application, all the information contained in that request is bundled into the request object."
      ],
      "metadata": {
        "id": "AdgVHpb6rX-q"
      }
    },
    {
      "cell_type": "markdown",
      "source": [
        "Q.14. How do you create a RESTful API endpoint using Flask?"
      ],
      "metadata": {
        "id": "orF86TUqrgcl"
      }
    },
    {
      "cell_type": "markdown",
      "source": [
        "Ans. Creating a RESTful API endpoint in Flask involves defining a route that can handle different HTTP methods. A simple API endpoint can be built using Flask's @app.route decorator to specify the URL and allowed methods."
      ],
      "metadata": {
        "id": "5admkCxaroAP"
      }
    },
    {
      "cell_type": "markdown",
      "source": [
        "Q.15. What is the purpose of Flask's jsonify() function?"
      ],
      "metadata": {
        "id": "1-Cd6iqer4mO"
      }
    },
    {
      "cell_type": "markdown",
      "source": [
        "Ans. The purpose of Flask's jsonify() function is to simplify the process of creating a JSON response from a Python dictionary, list, or other serializable data structure. It handles the details of converting the data into a JSON string and setting the correct Content-Type header in the HTTP response to application/json."
      ],
      "metadata": {
        "id": "anbq_4XBr8V2"
      }
    },
    {
      "cell_type": "markdown",
      "source": [
        "Q.16. Explain Flask’s url_for() function."
      ],
      "metadata": {
        "id": "WDZ8SIoNsNK2"
      }
    },
    {
      "cell_type": "markdown",
      "source": [
        "Ans. Flask's url_for() function is used to dynamically build a URL for a specific function. It takes the name of a view function as its first argument and any number of keyword arguments that correspond to the variable parts of the URL.\n",
        "\n",
        "**Why url_for() is Useful:-**\n",
        "\n",
        "**Avoids Hardcoding URLs:-** Instead of manually writing URLs like /users/profile/5, you can use url_for('profile', user_id=5). If you later decide to change the URL pattern for the profile function to /user/<int:user_id>/profile, all your links will automatically update without you having to change every single one. This makes your application easier to maintain and refactor.\n",
        "\n",
        "**Handles URL Variables:-** It automatically handles dynamic URL components. For a route like @app.route('/user/<username>'), url_for('user', username='alice') will correctly generate the URL /user/alice. It also properly handles special characters and URL encoding.\n",
        "\n",
        "**Works with Blueprints:-** When using Flask blueprints, url_for() can create URLs that correctly include the blueprint's URL prefix. For example, url_for('auth.login') will find the login function within the auth blueprint and generate the full URL.\n",
        "\n",
        "**Static Files:-** url_for() is also used to generate URLs for static files, such as CSS, JavaScript, and images. The endpoint for static files is 'static', and the keyword argument is filename. For example, url_for('static', filename='style.css') generates the correct URL to your static stylesheet."
      ],
      "metadata": {
        "id": "I3ZxAe0KsQ-2"
      }
    },
    {
      "cell_type": "markdown",
      "source": [
        "Q.17. How does Flask handle static files (CSS, JavaScript, etc.)?"
      ],
      "metadata": {
        "id": "IeJ1Pw0ytrcI"
      }
    },
    {
      "cell_type": "markdown",
      "source": [
        "Ans. Flask handles static files by serving them from a designated directory within your application. By default, this directory is named static and is located at the top level of your project folder."
      ],
      "metadata": {
        "id": "C6UPcNvqtxjb"
      }
    },
    {
      "cell_type": "markdown",
      "source": [
        "Q.18. What is an API specification, and how does it help in building a Flask API?"
      ],
      "metadata": {
        "id": "OycQ3qtxuuY9"
      }
    },
    {
      "cell_type": "markdown",
      "source": [
        "Ans. An API specification, often called an API contract, is a document that describes the design of a RESTful API. It defines all the endpoints, the HTTP methods they support (GET, POST, etc.), the data formats for requests and responses (e.g., JSON), and any authentication or error handling rules. Popular specification formats include OpenAPI (formerly Swagger) and RAML.\n",
        "\n",
        "**How it Helps in Flask API Development:-**\n",
        "\n",
        "An API specification is immensely useful when building a Flask API because it provides a clear, shared blueprint for both the developers creating the API and the clients who will consume it.\n",
        "\n",
        "Standardization and Consistency: A spec ensures all endpoints in your Flask API follow a consistent design. For instance, it can enforce that all success responses use a specific JSON structure or that all error responses use standardized status codes and error messages. This prevents inconsistencies that can arise when multiple developers work on the same project.\n",
        "\n",
        "Automated Documentation: Tools like Swagger UI or Redoc can automatically generate interactive documentation from your OpenAPI specification. This means you don't have to manually write and update documentation for every endpoint, saving a significant amount of time and ensuring the documentation is always up-to-date with your code.\n",
        "\n",
        "Code Generation: Some frameworks and tools can generate server-side boilerplate code (including Flask endpoints) directly from an API specification. This can speed up development by eliminating the need to write repetitive code for routing, request validation, and response serialization.\n",
        "\n",
        "Testing and Validation: The spec acts as a contract that both the server and client can validate against. You can use tools to automatically test whether your Flask API's responses match the defined schema, which helps catch bugs early in the development process. For clients, it allows them to build their application against a mock API or use the spec to generate client-side code, enabling parallel development."
      ],
      "metadata": {
        "id": "o72N7mRpu2C2"
      }
    },
    {
      "cell_type": "markdown",
      "source": [
        "Q.19. What are HTTP status codes, and why are they important in a Flask API?"
      ],
      "metadata": {
        "id": "_8VvkpIOvYkW"
      }
    },
    {
      "cell_type": "markdown",
      "source": [
        "Ans. HTTP status codes are three-digit numbers sent by a server in response to a client's request. They communicate the outcome of the request, indicating whether it was successful, redirected, or encountered an error.\n",
        "\n",
        "**The Role of Status Codes in a Flask API:-**\n",
        "\n",
        "Using the correct HTTP status codes in a Flask API is crucial because they provide a standardized, machine-readable way for the API to communicate the result of an operation to the client. This is a fundamental principle of RESTful API design.\n",
        "\n",
        "Clarity and Standardization:- Status codes provide a clear and consistent way to inform clients about the result of their request. For example, a 200 OK tells a client that the request was successful, while a 404 Not Found immediately indicates that the requested resource doesn't exist. Without these codes, a client would have to parse a custom error message, which is inefficient and error-prone.\n",
        "\n",
        "Client-Side Logic:- Client applications (like a mobile app or a front-end website) can be programmed to handle different status codes automatically. A client can, for example, retry a request for a 503 Service Unavailable error or prompt the user to log in for a 401 Unauthorized error. .\n",
        "\n",
        "Debugging and Logging:- During development and production, status codes are essential for debugging. A developer can quickly identify a problem by looking at the status code in a log file. A series of 500 Internal Server Error codes, for instance, immediately points to a server-side issue.\n"
      ],
      "metadata": {
        "id": "O5w0Pi9uvsmI"
      }
    },
    {
      "cell_type": "markdown",
      "source": [
        "Q.20.  How do you handle POST requests in Flask?"
      ],
      "metadata": {
        "id": "Ct3vzsSowr_d"
      }
    },
    {
      "cell_type": "markdown",
      "source": [
        "Ans. To handle POST requests in Flask, you define a view function for a specific route and explicitly specify methods=['POST'] in the @app.route decorator. This tells Flask that the function should only process POST requests."
      ],
      "metadata": {
        "id": "1IOAoJu_wxVl"
      }
    },
    {
      "cell_type": "markdown",
      "source": [
        "Q.21. How would you secure a Flask API?"
      ],
      "metadata": {
        "id": "-VqPW2Zdxdor"
      }
    },
    {
      "cell_type": "markdown",
      "source": [
        "Ans. Securing a Flask API involves implementing several layers of protection to guard against common web vulnerabilities. The key steps include authentication, input validation, using HTTPS, and managing dependencies.\n",
        "\n"
      ],
      "metadata": {
        "id": "cjJsXy6BxkQm"
      }
    },
    {
      "cell_type": "markdown",
      "source": [
        "Q.22. What is the significance of the Flask-RESTful extension?"
      ],
      "metadata": {
        "id": "8LSeZtDMx9xn"
      }
    },
    {
      "cell_type": "markdown",
      "source": [
        "Ans. Flask-RESTful is a Flask extension that simplifies the process of building RESTful APIs. Its significance lies in its ability to abstract away much of the boilerplate code and complexity typically associated with creating API endpoints.\n",
        "\n",
        "**Core Functions and Significance:-**\n",
        "\n",
        "1. Simplified Routing: Flask-RESTful uses a class-based approach to define resources. Instead of defining a separate function for each HTTP method (GET, POST, PUT), you can create a single class that handles all methods for a given resource. This makes your code more organized and easier to read.\n",
        "\n",
        "2. Request Parsing:- The extension includes a robust request parser that helps you validate and parse data from the request body, URL parameters, and headers. This is crucial for ensuring that the incoming data is in the correct format, which helps prevent bugs and security vulnerabilities.\n",
        "\n",
        "3. Automatic JSON Handling:- Flask-RESTful automatically handles JSON serialization and deserialization. When you return a Python dictionary from a resource method, it is automatically converted into a JSON response with the correct Content-Type header. This eliminates the need for repeated calls to jsonify().\n",
        "\n",
        "4. Standardized Error Handling:- The extension provides a consistent way to handle errors. It automatically converts raised exceptions into a standardized JSON error response, ensuring that your API's error messages are predictable and easy for clients to parse."
      ],
      "metadata": {
        "id": "PXTlTCqayDCF"
      }
    },
    {
      "cell_type": "markdown",
      "source": [
        "Q.23. What is the role of Flask’s session object?"
      ],
      "metadata": {
        "id": "HpGy1IAazgyA"
      }
    },
    {
      "cell_type": "markdown",
      "source": [
        "Ans. Flask's session object is a server-side mechanism for storing user-specific data across multiple requests. It provides a way for a web application to remember information about a user as they navigate from one page to another.\n",
        "\n",
        "**Key Characteristics and Purpose:-**\n",
        "\n",
        "Server-Side Storage:- The session data is not stored directly on the user's browser but rather on the server. The server sends a small, cryptographically signed cookie to the user's browser. This cookie contains a unique session ID. When the user's browser sends a subsequent request, it includes this session ID cookie, allowing the server to retrieve the correct session data from its storage.\n",
        "\n",
        "Security:- The session cookie is digitally signed with a secret key (app.secret_key). This signature ensures that the session data hasn't been tampered with by the user or an attacker. If the signature is invalid, Flask will reject the session data. This is a crucial security feature that prevents a user from forging their session data to gain unauthorized access.\n",
        "\n",
        "Persistence Across Requests:- Since HTTP is a stateless protocol, each request from a client is treated as a new, independent event. The session object solves this problem by providing a persistent context for a user. For example, it can be used to store:\n",
        "\n",
        "> A logged-in user's ID\n",
        "\n",
        "> Shopping cart contents\n",
        "\n",
        "> User preferences (e.g., dark mode settings)\n",
        "\n",
        "> Flash messages (temporary messages displayed after a redirect)"
      ],
      "metadata": {
        "id": "jnzKW_g3zvO0"
      }
    },
    {
      "cell_type": "markdown",
      "source": [
        "# **Practical Questions**"
      ],
      "metadata": {
        "id": "IyhTlPu20QvO"
      }
    },
    {
      "cell_type": "markdown",
      "source": [
        "Q.1. How do you create a basic Flask application?"
      ],
      "metadata": {
        "id": "l_LskDwt0dhr"
      }
    },
    {
      "cell_type": "code",
      "source": [
        "from flask import Flask\n",
        "\n",
        "# Create a Flask instance\n",
        "app = Flask(__name__)\n",
        "\n",
        "# Define a route\n",
        "@app.route(\"/\")\n",
        "def home():\n",
        "  return \"Hello, Flask!\"\n",
        "\n",
        "# Run the app (for development)\n",
        "# In a real-world application, you would use a production-ready server\n",
        "if __name__ == \"__main__\":\n",
        "  app.run(debug=True)"
      ],
      "metadata": {
        "id": "5cqvMyVIvZ_l"
      },
      "execution_count": null,
      "outputs": []
    },
    {
      "cell_type": "markdown",
      "source": [
        "Q.2. How do you serve static files like images or CSS in Flask?"
      ],
      "metadata": {
        "id": "Bue4GPC3Yr-6"
      }
    },
    {
      "cell_type": "code",
      "source": [
        "from flask import Flask, url_for, render_template\n",
        "\n",
        "app = Flask(__name__)\n",
        "\n",
        "@app.route('/')\n",
        "def index():\n",
        "  return render_template('index.html')\n",
        "\n",
        "# To serve static files, place them in a folder named 'static'\n",
        "# in the same directory as your application file.\n",
        "# For example, you can have a 'static' folder with 'style.css' inside.\n",
        "# In your HTML template, you can link to it like this:\n",
        "#\n",
        "\n",
        "# Example of an index.html template in a 'templates' folder:\n",
        "#\n",
        "#\n",
        "#\n",
        "#\n",
        "#\n",
        "#\n",
        "#     Hello from Flask!\n",
        "#     This is a demonstration of serving static files.\n",
        "#\n",
        "#\n",
        "\n",
        "# Example of a style.css file in a 'static' folder:\n",
        "# body {\n",
        "#     font-family: sans-serif;\n",
        "#     background-color: lightblue;\n",
        "# }"
      ],
      "metadata": {
        "id": "M9_HhS6sYuMj"
      },
      "execution_count": null,
      "outputs": []
    },
    {
      "cell_type": "markdown",
      "source": [
        "Q.3.  How do you define different routes with different HTTP methods in Flask?"
      ],
      "metadata": {
        "id": "_RucPArGvrp7"
      }
    },
    {
      "cell_type": "code",
      "source": [
        "from flask import Flask, request\n",
        "\n",
        "app = Flask(__name__)\n",
        "\n",
        "# Route that accepts GET and POST requests\n",
        "@app.route('/submit', methods=['GET', 'POST'])\n",
        "def submit():\n",
        "    if request.method == 'POST':\n",
        "        # Handle POST request data\n",
        "        return 'Received POST request!'\n",
        "    else:\n",
        "        # Handle GET request\n",
        "        return 'Send a POST request to this endpoint.'\n",
        "\n",
        "# Route that only accepts GET requests (default)\n",
        "@app.route('/data', methods=['GET'])\n",
        "def get_data():\n",
        "    return 'This endpoint only accepts GET requests.'\n",
        "\n",
        "# Route that only accepts POST requests\n",
        "@app.route('/create', methods=['POST'])\n",
        "def create_resource():\n",
        "    # Handle POST request to create a resource\n",
        "    return 'Resource created!', 201 # Return 201 Created status code\n",
        "\n",
        "if __name__ == '__main__':\n",
        "    app.run(debug=True)"
      ],
      "metadata": {
        "id": "eEEQpyIYvwly"
      },
      "execution_count": null,
      "outputs": []
    },
    {
      "cell_type": "markdown",
      "source": [
        "Q.4. How do you render HTML templates in Flask?"
      ],
      "metadata": {
        "id": "dYSclLTxv9dy"
      }
    },
    {
      "cell_type": "code",
      "source": [
        "from flask import Flask, render_template\n",
        "\n",
        "app = Flask(__name__)\n",
        "\n",
        "@app.route('/')\n",
        "def index():\n",
        "  # Flask looks for templates in a 'templates' folder by default\n",
        "  return render_template('index.html')\n",
        "\n",
        "# Example of an index.html template in a 'templates' folder:\n",
        "#\n",
        "#\n",
        "#\n",
        "#     My Flask App\n",
        "#\n",
        "#\n",
        "#     Hello from an HTML Template!\n",
        "#     This content is rendered from index.html.\n",
        "#\n",
        "#\n",
        "\n",
        "if __name__ == '__main__':\n",
        "    app.run(debug=True)"
      ],
      "metadata": {
        "id": "iGg2sCuwwFET"
      },
      "execution_count": null,
      "outputs": []
    },
    {
      "cell_type": "markdown",
      "source": [
        "Q.5.  How can you generate URLs for routes in Flask using url_for?"
      ],
      "metadata": {
        "id": "PisOpaqjwNu8"
      }
    },
    {
      "cell_type": "code",
      "source": [
        "from flask import Flask, url_for\n",
        "\n",
        "app = Flask(__name__)\n",
        "\n",
        "@app.route('/')\n",
        "def index():\n",
        "    return 'Hello from the index page!'\n",
        "\n",
        "@app.route('/user/')\n",
        "def show_user_profile(username):\n",
        "    return f'User: {username}'\n",
        "\n",
        "@app.route('/post/')\n",
        "def show_post(post_id):\n",
        "    return f'Post ID: {post_id}'\n",
        "\n",
        "with app.test_request_context():\n",
        "    # Generate URL for the 'index' function\n",
        "    index_url = url_for('index')\n",
        "    print(f\"URL for index: {index_url}\")\n",
        "\n",
        "    # Generate URL for the 'show_user_profile' function with a username\n",
        "    user_url = url_for('show_user_profile', username='john_doe')\n",
        "    print(f\"URL for user profile: {user_url}\")\n",
        "\n",
        "    # Generate URL for the 'show_post' function with a post ID\n",
        "    post_url = url_for('show_post', post_id=123)\n",
        "    print(f\"URL for post: {post_url}\")\n",
        "\n",
        "    # Generate URL with query parameters\n",
        "    next_page_url = url_for('index', next='/')\n",
        "    print(f\"URL with query parameter: {next_page_url}\")"
      ],
      "metadata": {
        "id": "xyLT0pSLxWfH"
      },
      "execution_count": null,
      "outputs": []
    },
    {
      "cell_type": "markdown",
      "source": [
        "Q.6. How do you handle forms in Flask?"
      ],
      "metadata": {
        "id": "DzD9usa_xk8p"
      }
    },
    {
      "cell_type": "code",
      "source": [
        "from flask import Flask, request, render_template\n",
        "\n",
        "app = Flask(__name__)\n",
        "\n",
        "@app.route('/form', methods=['GET', 'POST'])\n",
        "def handle_form():\n",
        "    if request.method == 'POST':\n",
        "        # Get data from the form\n",
        "        name = request.form.get('name')\n",
        "        email = request.form.get('email')\n",
        "        return f'Thank you, {name}! Your email is {email}.'\n",
        "    # Render the form template for GET requests\n",
        "    return render_template('form.html')\n",
        "\n",
        "# Example of a form.html template in a 'templates' folder:\n",
        "#\n",
        "#\n",
        "#\n",
        "#     Form Example\n",
        "#\n",
        "#\n",
        "#     Simple Form\n",
        "#\n",
        "#         Name:\n",
        "#\n",
        "#         Email:\n",
        "#\n",
        "#\n",
        "#\n",
        "#\n",
        "#\n",
        "\n",
        "if __name__ == '__main__':\n",
        "    app.run(debug=True)"
      ],
      "metadata": {
        "id": "4D9Pk7h2xqgo"
      },
      "execution_count": null,
      "outputs": []
    },
    {
      "cell_type": "markdown",
      "source": [
        "Q.7. How can you validate form data in Flask?"
      ],
      "metadata": {
        "id": "Ilvpp92px7xW"
      }
    },
    {
      "cell_type": "code",
      "source": [
        "from flask import Flask, request, render_template\n",
        "\n",
        "app = Flask(__name__)\n",
        "\n",
        "@app.route('/validate_form', methods=['GET', 'POST'])\n",
        "def validate_form():\n",
        "    if request.method == 'POST':\n",
        "        name = request.form.get('name')\n",
        "        email = request.form.get('email')\n",
        "        errors = {}\n",
        "\n",
        "        if not name:\n",
        "            errors['name'] = 'Name is required.'\n",
        "        if not email:\n",
        "            errors['email'] = 'Email is required.'\n",
        "        elif '@' not in email:\n",
        "            errors['email'] = 'Invalid email format.'\n",
        "\n",
        "        if errors:\n",
        "            # If there are errors, re-render the form with error messages\n",
        "            return render_template('validate_form.html', errors=errors, name=name, email=email)\n",
        "        else:\n",
        "            # If validation passes, process the data\n",
        "            return f'Form submitted successfully! Name: {name}, Email: {email}'\n",
        "\n",
        "    # Render the form template for GET requests\n",
        "    return render_template('validate_form.html')\n",
        "\n",
        "# Example of a validate_form.html template in a 'templates' folder:\n",
        "#\n",
        "#\n",
        "#\n",
        "#     Form Validation Example\n",
        "#\n",
        "#\n",
        "#\n",
        "#     Form Validation\n",
        "#\n",
        "#\n",
        "#             Name:\n",
        "#\n",
        "#             {% if errors and errors.name %}{{ errors.name }}{% endif %}\n",
        "#\n",
        "#\n",
        "#\n",
        "#             Email:\n",
        "#\n",
        "#             {% if errors and errors.email %}{{ errors.email }}{% endif %}\n",
        "#\n",
        "#\n",
        "#\n",
        "#\n",
        "#\n",
        "#\n",
        "\n",
        "if __name__ == '__main__':\n",
        "    app.run(debug=True)"
      ],
      "metadata": {
        "id": "epW1l_ZNyAjm"
      },
      "execution_count": null,
      "outputs": []
    },
    {
      "cell_type": "markdown",
      "source": [
        "Q.8. How do you manage sessions in Flask?"
      ],
      "metadata": {
        "id": "vMEu3RR-yQ0D"
      }
    },
    {
      "cell_type": "code",
      "source": [
        "from flask import Flask, session, redirect, url_for, request\n",
        "\n",
        "app = Flask(__name__)\n",
        "# Set a secret key for signing the session cookie\n",
        "# In a real application, use a strong, randomly generated key\n",
        "app.secret_key = 'your_secret_key'\n",
        "\n",
        "@app.route('/')\n",
        "def index():\n",
        "    if 'username' in session:\n",
        "        return f'Logged in as {session[\"username\"]}'\n",
        "    return 'You are not logged in'\n",
        "\n",
        "@app.route('/login', methods=['GET', 'POST'])\n",
        "def login():\n",
        "    if request.method == 'POST':\n",
        "        session['username'] = request.form['username']\n",
        "        return redirect(url_for('index'))\n",
        "    return '''\n",
        "\n",
        "\n",
        "\n",
        "\n",
        "    '''\n",
        "\n",
        "@app.route('/logout')\n",
        "def logout():\n",
        "    # Remove the username from the session if it's there\n",
        "    session.pop('username', None)\n",
        "    return redirect(url_for('index'))\n",
        "\n",
        "if __name__ == '__main__':\n",
        "    app.run(debug=True)"
      ],
      "metadata": {
        "id": "FVDB-qJdyXcg"
      },
      "execution_count": null,
      "outputs": []
    },
    {
      "cell_type": "markdown",
      "source": [
        "Q.9.  How do you redirect to a different route in Flask?"
      ],
      "metadata": {
        "id": "1tYlLxz9yhqJ"
      }
    },
    {
      "cell_type": "code",
      "source": [
        "from flask import Flask, redirect, url_for\n",
        "\n",
        "app = Flask(__name__)\n",
        "\n",
        "@app.route('/')\n",
        "def index():\n",
        "    return 'This is the index page. You will be redirected to the target page.'\n",
        "\n",
        "@app.route('/redirect_to_target')\n",
        "def redirect_example():\n",
        "    # Redirect to the 'target_page' route\n",
        "    return redirect(url_for('target_page'))\n",
        "\n",
        "@app.route('/target')\n",
        "def target_page():\n",
        "    return 'You have been redirected to the target page!'\n",
        "\n",
        "if __name__ == '__main__':\n",
        "    app.run(debug=True)"
      ],
      "metadata": {
        "id": "0d5mkuIiyocV"
      },
      "execution_count": null,
      "outputs": []
    },
    {
      "cell_type": "markdown",
      "source": [
        "Q.10.  How do you handle errors in Flask (e.g., 404)?"
      ],
      "metadata": {
        "id": "eGBrAZLZyygl"
      }
    },
    {
      "cell_type": "code",
      "source": [
        "from flask import Flask, render_template\n",
        "\n",
        "app = Flask(__name__)\n",
        "\n",
        "@app.route('/')\n",
        "def index():\n",
        "    return 'Hello, this is the index page.'\n",
        "\n",
        "# Custom error handler for 404 Not Found errors\n",
        "@app.errorhandler(404)\n",
        "def page_not_found(error):\n",
        "    # You can render a custom template or return a simple string\n",
        "    return render_template('404.html'), 404\n",
        "\n",
        "# Example of a 404.html template in a 'templates' folder:\n",
        "#\n",
        "#\n",
        "#\n",
        "#     Page Not Found\n",
        "#\n",
        "#\n",
        "#     Page Not Found\n",
        "#     The requested URL was not found on the server. If you entered the URL manually please check your spelling and try again.\n",
        "#\n",
        "#\n",
        "\n",
        "if __name__ == '__main__':\n",
        "    app.run(debug=True)"
      ],
      "metadata": {
        "id": "VccU0Rxky4SF"
      },
      "execution_count": null,
      "outputs": []
    },
    {
      "cell_type": "markdown",
      "source": [
        "Q.11. How do you structure a Flask app using Blueprints?"
      ],
      "metadata": {
        "id": "AzJaFkGzzIJ7"
      }
    },
    {
      "cell_type": "code",
      "source": [
        "from flask import Flask\n",
        "\n",
        "def create_app():\n",
        "    app = Flask(__name__)\n",
        "\n",
        "    # Register blueprints\n",
        "    from .main import main as main_blueprint\n",
        "    app.register_blueprint(main_blueprint)\n",
        "\n",
        "    from .auth import auth as auth_blueprint\n",
        "    app.register_blueprint(auth_blueprint, url_prefix='/auth')\n",
        "\n",
        "    return app\n",
        "\n",
        "if __name__ == '__main__':\n",
        "    app = create_app()\n",
        "    app.run(debug=True)\n",
        "\n",
        "\n",
        "# main.py (inside a 'main' folder)\n",
        "from flask import Blueprint\n",
        "\n",
        "main = Blueprint('main', __name__)\n",
        "\n",
        "@main.route('/')\n",
        "def index():\n",
        "    return 'Hello from the main blueprint!'\n",
        "\n",
        "\n",
        "# auth.py (inside an 'auth' folder)\n",
        "from flask import Blueprint\n",
        "\n",
        "auth = Blueprint('auth', __name__)\n",
        "\n",
        "@auth.route('/login')\n",
        "def login():\n",
        "    return 'This is the login page from the auth blueprint.'\n",
        ""
      ],
      "metadata": {
        "id": "spcVw3TRzMMK"
      },
      "execution_count": null,
      "outputs": []
    },
    {
      "cell_type": "markdown",
      "source": [
        "Q.12.  How do you define a custom Jinja filter in Flask?"
      ],
      "metadata": {
        "id": "pO0iG20xzWrJ"
      }
    },
    {
      "cell_type": "code",
      "source": [
        "from flask import Flask, render_template\n",
        "\n",
        "app = Flask(__name__)\n",
        "\n",
        "# Define a custom Jinja filter\n",
        "@app.template_filter('capitalize_words')\n",
        "def capitalize_words_filter(s):\n",
        "    return s.title()\n",
        "\n",
        "@app.route('/')\n",
        "def index():\n",
        "    my_text = \"hello world\"\n",
        "    return render_template('filter_example.html', my_text=my_text)\n",
        "\n",
        "# Example of a filter_example.html template in a 'templates' folder:\n",
        "#\n",
        "#\n",
        "#\n",
        "#     Custom Filter Example\n",
        "#\n",
        "#\n",
        "#     Custom Jinja Filter\n",
        "#     Original text: {{ my_text }}\n",
        "#     Text with custom filter: {{ my_text | capitalize_words }}\n",
        "#\n",
        "#\n",
        "\n",
        "if __name__ == '__main__':\n",
        "    app.run(debug=True)"
      ],
      "metadata": {
        "id": "WgRWV2rDza5B"
      },
      "execution_count": null,
      "outputs": []
    },
    {
      "cell_type": "markdown",
      "source": [
        "Q.13. How can you redirect with query parameters in Flask?"
      ],
      "metadata": {
        "id": "e58EdV2jzfZE"
      }
    },
    {
      "cell_type": "code",
      "source": [
        "from flask import Flask, redirect, url_for\n",
        "\n",
        "app = Flask(__name__)\n",
        "\n",
        "@app.route('/')\n",
        "def index():\n",
        "    return 'This is the index page.'\n",
        "\n",
        "@app.route('/redirect_with_params')\n",
        "def redirect_with_params():\n",
        "    # Redirect to the 'target_page' route with query parameters\n",
        "    return redirect(url_for('target_page', param1='value1', param2='value2'))\n",
        "\n",
        "@app.route('/target')\n",
        "def target_page():\n",
        "    # You can access the query parameters in the target route using request.args\n",
        "    from flask import request\n",
        "    param1 = request.args.get('param1')\n",
        "    param2 = request.args.get('param2')\n",
        "    return f'You have been redirected to the target page! Param1: {param1}, Param2: {param2}'\n",
        "\n",
        "if __name__ == '__main__':\n",
        "    app.run(debug=True)"
      ],
      "metadata": {
        "id": "Iav84-xazr_C"
      },
      "execution_count": null,
      "outputs": []
    },
    {
      "cell_type": "markdown",
      "source": [
        "Q.14. How do you return JSON responses in Flask?"
      ],
      "metadata": {
        "id": "VwK5_X9KzwIM"
      }
    },
    {
      "cell_type": "code",
      "source": [
        "from flask import Flask, jsonify\n",
        "\n",
        "app = Flask(__name__)\n",
        "\n",
        "@app.route('/data')\n",
        "def get_data():\n",
        "    data = {\n",
        "        'name': 'John Doe',\n",
        "        'age': 30,\n",
        "        'city': 'New York'\n",
        "    }\n",
        "    return jsonify(data)\n",
        "\n",
        "@app.route('/list_data')\n",
        "def get_list_data():\n",
        "    data = [\n",
        "        {'id': 1, 'item': 'apple'},\n",
        "        {'id': 2, 'item': 'banana'}\n",
        "    ]\n",
        "    return jsonify(data)\n",
        "\n",
        "if __name__ == '__main__':\n",
        "    app.run(debug=True)"
      ],
      "metadata": {
        "id": "uE3l8FB1z1eH"
      },
      "execution_count": null,
      "outputs": []
    },
    {
      "cell_type": "markdown",
      "source": [
        "Q.15.  How do you capture URL parameters in Flask?"
      ],
      "metadata": {
        "id": "1Bd4u1MH0EFF"
      }
    },
    {
      "cell_type": "code",
      "source": [
        "app = Flask(__name__)\n",
        "\n",
        "# Define a route with a URL parameter 'name'\n",
        "@app.route('/user/')\n",
        "def show_user(name):\n",
        "  # The value of the URL parameter 'name' is passed as an argument to the function\n",
        "  return f'Hello, {name}!'\n",
        "\n",
        "# Define a route with a URL parameter 'post_id' which is an integer\n",
        "@app.route('/post/')\n",
        "def show_post(post_id):\n",
        "  # The value of the URL parameter 'post_id' is passed as an integer argument\n",
        "  return f'Post ID: {post_id}'\n",
        "\n",
        "if __name__ == '__main__':\n",
        "  app.run(debug=True)"
      ],
      "metadata": {
        "id": "3UdPuxQ60NJB"
      },
      "execution_count": null,
      "outputs": []
    },
    {
      "cell_type": "markdown",
      "source": [
        "# **END**"
      ],
      "metadata": {
        "id": "qtucMJLt0T4g"
      }
    }
  ]
}